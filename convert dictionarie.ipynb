{
 "cells": [
  {
   "cell_type": "code",
   "execution_count": 192,
   "metadata": {},
   "outputs": [],
   "source": [
    "dict1 = {\n",
    "    'key1': \"gds\",\n",
    "    'key2': {\n",
    "        'key2-1': [0,1,2,3],\n",
    "        'key2-2': 'value2-2',\n",
    "        'key2-3': {\n",
    "            'key2-3-1': 'value2-3-1'\n",
    "        }\n",
    "    },\n",
    "    'key3': [{0,1,2,3},None]\n",
    "}"
   ]
  },
  {
   "cell_type": "code",
   "execution_count": 194,
   "metadata": {},
   "outputs": [],
   "source": [
    "def dict_transfrom(dict1):\n",
    "    #step1: use recursive method to get every sub_value of dict1\n",
    "    dict_new = {}\n",
    "    \n",
    "    #define recursive function\n",
    "    def func1(dict1):\n",
    "        for i in dict1.keys():\n",
    "            if type(dict1[i]) == dict:\n",
    "                func1(dict1[i])\n",
    "            else:\n",
    "                dict_new[i] = dict1[i]\n",
    "    #begin recursive and store the daya in dict_new\n",
    "    func1(dict1)\n",
    "    #Now dict_new has all the sub_value of dict1, but the key_name is not qualified.\n",
    "    \n",
    "    #step2:update the dictionary key name\n",
    "    namelist = list(dict_new.keys())\n",
    "    namelist_new = []\n",
    "    for i in range(len(namelist)):\n",
    "        temp = namelist[i]\n",
    "        total = temp\n",
    "        while ('-' in temp):\n",
    "            temp = temp[::-1][(temp[::-1].index('-')+1):][::-1]\n",
    "            total  = temp+ '.'+total\n",
    "        namelist_new.append(total)\n",
    "    \n",
    "    #step3: eate a new dictionary and combine new dict_key_name and old dict_key_value.\n",
    "    dict_final = {}\n",
    "    for i in range(len(dict_new.keys())):\n",
    "        dict_final[namelist_new[i]] =list(dict_new.values())[i]\n",
    "    return dict_final"
   ]
  },
  {
   "cell_type": "code",
   "execution_count": 195,
   "metadata": {},
   "outputs": [
    {
     "data": {
      "text/plain": [
       "{'key1': 'gds',\n",
       " 'key2.key2-1': [0, 1, 2, 3],\n",
       " 'key2.key2-2': 'value2-2',\n",
       " 'key2.key2-3.key2-3-1': 'value2-3-1',\n",
       " 'key3': [{0, 1, 2, 3}, None]}"
      ]
     },
     "execution_count": 195,
     "metadata": {},
     "output_type": "execute_result"
    }
   ],
   "source": [
    "dict_transfrom(dict1)"
   ]
  },
  {
   "cell_type": "code",
   "execution_count": null,
   "metadata": {},
   "outputs": [],
   "source": []
  },
  {
   "cell_type": "code",
   "execution_count": null,
   "metadata": {},
   "outputs": [],
   "source": []
  }
 ],
 "metadata": {
  "kernelspec": {
   "display_name": "Python 3",
   "language": "python",
   "name": "python3"
  },
  "language_info": {
   "codemirror_mode": {
    "name": "ipython",
    "version": 3
   },
   "file_extension": ".py",
   "mimetype": "text/x-python",
   "name": "python",
   "nbconvert_exporter": "python",
   "pygments_lexer": "ipython3",
   "version": "3.7.5"
  }
 },
 "nbformat": 4,
 "nbformat_minor": 5
}
